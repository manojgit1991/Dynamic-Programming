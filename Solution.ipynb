{
 "cells": [
  {
   "cell_type": "code",
   "execution_count": 1,
   "metadata": {},
   "outputs": [],
   "source": [
    "#importing numpy library\n",
    "import numpy as np"
   ]
  },
  {
   "cell_type": "code",
   "execution_count": 2,
   "metadata": {},
   "outputs": [],
   "source": [
    "#function definition\n",
    "\"\"\"\n",
    "keypad : create standard push button telephone keypad\n",
    "l_location : position of * key\n",
    "r_location : position of # key -- these are starting position\n",
    "tot_cost : smallest amount of euclidean distance both fingers together have moved -- starts with value 1\n",
    "result : return tuple \n",
    "n:length of the telephone number\n",
    "pos_x,pos_y: position of ith key\n",
    "l_cost, r_cost : cost (timing/euclidean distance) for moving left or right finger\n",
    "shortest_ecludian_path : shortest ecluidian distance \n",
    "\"\"\"\n",
    "# k corresponds to the number of keys on the key board\n",
    "# n corresponds to the length of the telephone number\n",
    "def compute_laziest_path(telephone_number: str):\n",
    "    keypad=np.matrix([[\"1\",\"2\",\"3\"],[\"4\",\"5\",\"6\"],[\"7\",\"8\",\"9\"],[\"*\",\"0\",\"#\"]])\n",
    "    l_location=(3,0)\n",
    "    r_location=(3,2)\n",
    "    tot_cost=1\n",
    "    result=[(keypad[l_location],keypad[r_location])]\n",
    "    n=len(telephone_number)\n",
    "    try:\n",
    "        if n>0:\n",
    "            for i in range(n):\n",
    "                pos_x,pos_y=np.where(keypad==telephone_number[i])\n",
    "                l_cost=np.linalg.norm(np.array((l_location))-np.array((pos_x,pos_y)))\n",
    "                r_cost=np.linalg.norm(np.array((r_location))-np.array((pos_x,pos_y)))\n",
    "                shortest_ecludian_path=min(l_cost,r_cost)\n",
    "                if shortest_ecludian_path==float(l_cost):\n",
    "                        l_location=(pos_x[0],pos_y[0])\n",
    "                        result.append((keypad[l_location],keypad[r_location]))\n",
    "                        tot_cost+=1\n",
    "\n",
    "                else:\n",
    "                    r_location=(pos_x[0],pos_y[0])\n",
    "                    result.append((keypad[l_location],keypad[r_location]))\n",
    "                    tot_cost+=1\n",
    "        return (float(tot_cost),result)\n",
    "    except BaseException as e:\n",
    "        print(\"Invalid Input\")"
   ]
  },
  {
   "cell_type": "code",
   "execution_count": 3,
   "metadata": {},
   "outputs": [
    {
     "data": {
      "text/plain": [
       "(4.0, [('*', '#'), ('1', '#'), ('1', '#'), ('1', '0')])"
      ]
     },
     "execution_count": 3,
     "metadata": {},
     "output_type": "execute_result"
    }
   ],
   "source": [
    "#function call and test case\n",
    "compute_laziest_path(\"110\")"
   ]
  },
  {
   "cell_type": "code",
   "execution_count": 4,
   "metadata": {},
   "outputs": [
    {
     "name": "stdout",
     "output_type": "stream",
     "text": [
      "execution time\n"
     ]
    }
   ],
   "source": [
    "print(\"execution time\")"
   ]
  },
  {
   "cell_type": "code",
   "execution_count": 5,
   "metadata": {},
   "outputs": [
    {
     "name": "stdout",
     "output_type": "stream",
     "text": [
      "Wall time: 0 ns\n"
     ]
    },
    {
     "data": {
      "text/plain": [
       "(4.0, [('*', '#'), ('1', '#'), ('1', '#'), ('1', '0')])"
      ]
     },
     "execution_count": 5,
     "metadata": {},
     "output_type": "execute_result"
    }
   ],
   "source": [
    "%%time\n",
    "compute_laziest_path(\"110\")"
   ]
  },
  {
   "cell_type": "code",
   "execution_count": 6,
   "metadata": {},
   "outputs": [
    {
     "name": "stdout",
     "output_type": "stream",
     "text": [
      "Time Complexity = O(nk)\n",
      "Space Complexity : Linear space complexity occurs when the program runs\n"
     ]
    }
   ],
   "source": [
    "# let's say C=cost, n=no. of time it runs \n",
    "# for constant : n=1 , for loop n=n+1 , within loop : n=n\n",
    "#max run time : C*1+C*1+C*1+C*1+C*1+C*1+C*1+C*1+C*(n+1)+C*n+C*n+C*n+C*n+C*n+C*n+C*n+C*n+C*n = 9*C*1+10*C*n =O(n)+O(1)\n",
    "# if k :corresponds to the number of keys on the keyboard, then = O(nk)+O(1*k) ~ O(nk)\n",
    "print(\"Time Complexity = O(nk)\") \n",
    "print (\"Space Complexity : Linear space complexity occurs when the program runs\")\n",
    "# p.s : total space required : depends on the input length "
   ]
  },
  {
   "cell_type": "code",
   "execution_count": 7,
   "metadata": {},
   "outputs": [
    {
     "data": {
      "text/plain": [
       "'C:\\\\Users\\\\v-mbiswal'"
      ]
     },
     "execution_count": 7,
     "metadata": {},
     "output_type": "execute_result"
    }
   ],
   "source": [
    "pwd"
   ]
  },
  {
   "cell_type": "code",
   "execution_count": null,
   "metadata": {},
   "outputs": [],
   "source": []
  }
 ],
 "metadata": {
  "kernelspec": {
   "display_name": "Python 3",
   "language": "python",
   "name": "python3"
  },
  "language_info": {
   "codemirror_mode": {
    "name": "ipython",
    "version": 3
   },
   "file_extension": ".py",
   "mimetype": "text/x-python",
   "name": "python",
   "nbconvert_exporter": "python",
   "pygments_lexer": "ipython3",
   "version": "3.8.5"
  }
 },
 "nbformat": 4,
 "nbformat_minor": 4
}
